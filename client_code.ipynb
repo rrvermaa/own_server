{
 "cells": [
  {
   "cell_type": "code",
   "execution_count": 10,
   "id": "ac1142d2",
   "metadata": {},
   "outputs": [],
   "source": []
  },
  {
   "cell_type": "code",
   "execution_count": 25,
   "id": "bb740287",
   "metadata": {},
   "outputs": [],
   "source": [
    "def getData():\n",
    "    import socket\n",
    "    client= socket.socket()\n",
    "    client.connect(('localhost',49311))\n",
    "    print(\"Recieved Data \",client.recv(250).decode())"
   ]
  },
  {
   "cell_type": "code",
   "execution_count": 27,
   "id": "e118ecf5",
   "metadata": {},
   "outputs": [
    {
     "name": "stdout",
     "output_type": "stream",
     "text": [
      "Recieved Data  Python Data\n"
     ]
    }
   ],
   "source": [
    "getData()"
   ]
  },
  {
   "cell_type": "code",
   "execution_count": null,
   "id": "b9bdb97e",
   "metadata": {},
   "outputs": [],
   "source": []
  }
 ],
 "metadata": {
  "kernelspec": {
   "display_name": "Python 3 (ipykernel)",
   "language": "python",
   "name": "python3"
  },
  "language_info": {
   "codemirror_mode": {
    "name": "ipython",
    "version": 3
   },
   "file_extension": ".py",
   "mimetype": "text/x-python",
   "name": "python",
   "nbconvert_exporter": "python",
   "pygments_lexer": "ipython3",
   "version": "3.9.13"
  }
 },
 "nbformat": 4,
 "nbformat_minor": 5
}
