{
 "cells": [
  {
   "cell_type": "code",
   "execution_count": 2,
   "id": "9cdd2b7c",
   "metadata": {},
   "outputs": [],
   "source": []
  },
  {
   "cell_type": "code",
   "execution_count": 1,
   "id": "0304dffb",
   "metadata": {},
   "outputs": [],
   "source": [
    "def sendData(data):\n",
    "    import socket\n",
    "    server = socket.socket()\n",
    "    server.bind(('localhost',49311))\n",
    "    print('server Create Successfully')\n",
    "\n",
    "    server.listen(10)\n",
    "    i=0\n",
    "\n",
    "    while True:\n",
    "        client,address= server.accept()\n",
    "        i=i+1\n",
    "        print(f\"{i})connected with client{address}\")\n",
    "        client.send(bytes(data,'utf-8')) # encoding formate \n",
    "        print(f'Data sent successfully to {address}')\n",
    "        client.close()"
   ]
  },
  {
   "cell_type": "code",
   "execution_count": null,
   "id": "a3944a66",
   "metadata": {},
   "outputs": [],
   "source": [
    "# address contain ip address abd port no. (ip address may be same but port no. can't be same)"
   ]
  },
  {
   "cell_type": "code",
   "execution_count": null,
   "id": "0c9a6847",
   "metadata": {},
   "outputs": [
    {
     "name": "stdout",
     "output_type": "stream",
     "text": [
      "server Create Successfully\n",
      "1)connected with client('127.0.0.1', 61045)\n",
      "Data sent successfully to ('127.0.0.1', 61045)\n",
      "2)connected with client('127.0.0.1', 61046)\n",
      "Data sent successfully to ('127.0.0.1', 61046)\n",
      "3)connected with client('127.0.0.1', 61047)\n",
      "Data sent successfully to ('127.0.0.1', 61047)\n"
     ]
    }
   ],
   "source": [
    "sendData('Python Data')"
   ]
  },
  {
   "cell_type": "code",
   "execution_count": null,
   "id": "ec2bec0d",
   "metadata": {},
   "outputs": [],
   "source": []
  }
 ],
 "metadata": {
  "kernelspec": {
   "display_name": "Python 3 (ipykernel)",
   "language": "python",
   "name": "python3"
  },
  "language_info": {
   "codemirror_mode": {
    "name": "ipython",
    "version": 3
   },
   "file_extension": ".py",
   "mimetype": "text/x-python",
   "name": "python",
   "nbconvert_exporter": "python",
   "pygments_lexer": "ipython3",
   "version": "3.9.13"
  }
 },
 "nbformat": 4,
 "nbformat_minor": 5
}
